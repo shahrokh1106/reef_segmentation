{
 "cells": [
  {
   "cell_type": "code",
   "execution_count": 4,
   "metadata": {},
   "outputs": [],
   "source": [
    "import numpy as np\n",
    "import os\n",
    "import sys\n",
    "import xmltodict\n",
    "import cv2\n",
    "import pprint\n",
    "import shutil\n",
    "from PIL import Image"
   ]
  },
  {
   "cell_type": "code",
   "execution_count": null,
   "metadata": {},
   "outputs": [],
   "source": [
    "with open(\"./images/annotations.xml\") as f:\n",
    "    dataset = xmltodict.parse(f.read())\n",
    "    annotations = dataset['annotations']['image']\n",
    "    pprint.pp(annotations)"
   ]
  },
  {
   "cell_type": "code",
   "execution_count": null,
   "metadata": {},
   "outputs": [],
   "source": [
    "def load_annotations(data_path):\n",
    "    with open(os.path.join(data_path, \"annotations.xml\")) as f:\n",
    "        dataset = xmltodict.parse(f.read())\n",
    "    return dataset\n",
    "\n",
    "def extract_data_from_cvat_annotations(data_path):\n",
    "    dataset = load_annotations(data_path)\n",
    "    number_of_images = len(dataset['annotations']['image'])\n",
    "    \n",
    "    DATA_DICT = dict()\n",
    "    task_id_offset = 386\n",
    "    for INDEX in range(number_of_images):\n",
    "        annotations = dataset['annotations']['image'][INDEX]\n",
    "        classes_list = []\n",
    "        image_name = annotations['@name']\n",
    "        task_id = int(annotations['@task_id']) - task_id_offset\n",
    "        img = cv2.imread(os.path.join(data_path, f\"task_{task_id}/data\", image_name))\n",
    "        mask = np.zeros((img.shape[0],img.shape[1]))\n",
    "        try:\n",
    "            image_boxes_data = annotations['box']\n",
    "        except:\n",
    "            image_boxes_data = []\n",
    "            \n",
    "        # checks if there is any bounding box in the frame; otherwise it returns an empty mask for that frame without any class names\n",
    "        frame_data_dict= dict()\n",
    "        if len(image_boxes_data) == 0:\n",
    "            frame_data_dict.update({\n",
    "                \"task_id\": task_id,\n",
    "                \"image_name\": image_name,\n",
    "                \"classes\": []\n",
    "            })\n",
    "        else:\n",
    "            labels = []\n",
    "            for j in range(len(image_boxes_data)):\n",
    "                try:\n",
    "                    if image_boxes_data[j]['@label'] != 'Rock' and image_boxes_data[j]['@label'] != 'Unknown':\n",
    "                        labels.append(image_boxes_data[j][\"attribute\"]['#text'])\n",
    "                except:\n",
    "                    pass\n",
    "                \n",
    "            frame_data_dict.update({\n",
    "                \"task_id\": task_id,\n",
    "                \"image_name\": image_name,\n",
    "                \"classes\": labels\n",
    "            })\n",
    "        DATA_DICT.update({INDEX : frame_data_dict})\n",
    "    return DATA_DICT\n",
    "\n",
    "\n",
    "data_path = \"images\"\n",
    "dataset_dict = extract_data_from_cvat_annotations(data_path)\n",
    "dataset_dict"
   ]
  },
  {
   "cell_type": "code",
   "execution_count": null,
   "metadata": {},
   "outputs": [],
   "source": [
    "filenames = os.listdir('./amphiroa_anceps/output/')\n",
    "for filename in filenames:\n",
    "    print(filename)\n",
    "    image_id = filename[-7:-4]\n",
    "    # print(image_id)\n",
    "    \n",
    "    src = f'./images/full/Deepwatercove_{image_id}.png'\n",
    "    dst = './amphiroa_anceps/input/'\n",
    "    shutil.copy(src, dst)\n",
    "    \n",
    "    os.rename(f'./amphiroa_anceps/input/Deepwatercove_{image_id}.png', f'./amphiroa_anceps/input/Amphiroa anceps_Deepwatercove_{image_id}.png')"
   ]
  },
  {
   "cell_type": "code",
   "execution_count": 35,
   "metadata": {},
   "outputs": [
    {
     "name": "stdout",
     "output_type": "stream",
     "text": [
      "Processed image: Deepwatercove_358.png\n",
      "Processed image: Deepwatercove_390.png\n",
      "Processed image: Deepwatercove_398.png\n",
      "Processed image: Deepwatercove_406.png\n"
     ]
    }
   ],
   "source": [
    "task_id = 5\n",
    "filenames = os.listdir(f'./images/task_{task_id}/data/')\n",
    "for filename in filenames:\n",
    "    image_id = filename[-7:-4]\n",
    "    # print(filename, image_id)\n",
    "    \n",
    "    if os.path.isfile(f'./segmented_masks_anthothoe_albocinta/Anthothoe albocinta_Deepwatercove_{image_id}.png'):\n",
    "        src = f'./segmented_masks_anthothoe_albocinta/Anthothoe albocinta_Deepwatercove_{image_id}.png'\n",
    "        dst = './anthothoe_albocinta/output/'\n",
    "        shutil.copy(src, dst)\n",
    "        \n",
    "        src = f'./images/task_{task_id}/data/{filename}'\n",
    "        dst = './anthothoe_albocinta/input/'\n",
    "        shutil.copy(src, dst)\n",
    "        os.rename(f'./anthothoe_albocinta/input/{filename}', f'./anthothoe_albocinta/input/Anthothoe albocinta_Deepwatercove_{image_id}.png')\n",
    "        print(f\"Processed image: {filename}\")"
   ]
  },
  {
   "cell_type": "code",
   "execution_count": 36,
   "metadata": {},
   "outputs": [
    {
     "name": "stdout",
     "output_type": "stream",
     "text": [
      "Processed image: Anthothoe albocinta_Deepwatercove_065.png\n",
      "Processed image: Anthothoe albocinta_Deepwatercove_108.png\n",
      "Processed image: Anthothoe albocinta_Deepwatercove_237.png\n",
      "Processed image: Anthothoe albocinta_Deepwatercove_252.png\n",
      "Processed image: Anthothoe albocinta_Deepwatercove_273.png\n",
      "Processed image: Anthothoe albocinta_Deepwatercove_274.png\n",
      "Processed image: Anthothoe albocinta_Deepwatercove_348.png\n",
      "Processed image: Anthothoe albocinta_Deepwatercove_349.png\n",
      "Processed image: Anthothoe albocinta_Deepwatercove_353.png\n",
      "Processed image: Anthothoe albocinta_Deepwatercove_356.png\n",
      "Processed image: Anthothoe albocinta_Deepwatercove_357.png\n",
      "Processed image: Anthothoe albocinta_Deepwatercove_358.png\n",
      "Processed image: Anthothoe albocinta_Deepwatercove_361.png\n",
      "Processed image: Anthothoe albocinta_Deepwatercove_364.png\n",
      "Processed image: Anthothoe albocinta_Deepwatercove_369.png\n",
      "Processed image: Anthothoe albocinta_Deepwatercove_371.png\n",
      "Processed image: Anthothoe albocinta_Deepwatercove_372.png\n",
      "Processed image: Anthothoe albocinta_Deepwatercove_373.png\n",
      "Processed image: Anthothoe albocinta_Deepwatercove_377.png\n",
      "Processed image: Anthothoe albocinta_Deepwatercove_378.png\n",
      "Processed image: Anthothoe albocinta_Deepwatercove_379.png\n",
      "Processed image: Anthothoe albocinta_Deepwatercove_380.png\n",
      "Processed image: Anthothoe albocinta_Deepwatercove_381.png\n",
      "Processed image: Anthothoe albocinta_Deepwatercove_385.png\n",
      "Processed image: Anthothoe albocinta_Deepwatercove_386.png\n",
      "Processed image: Anthothoe albocinta_Deepwatercove_387.png\n",
      "Processed image: Anthothoe albocinta_Deepwatercove_388.png\n",
      "Processed image: Anthothoe albocinta_Deepwatercove_389.png\n",
      "Processed image: Anthothoe albocinta_Deepwatercove_390.png\n",
      "Processed image: Anthothoe albocinta_Deepwatercove_393.png\n",
      "Processed image: Anthothoe albocinta_Deepwatercove_394.png\n",
      "Processed image: Anthothoe albocinta_Deepwatercove_395.png\n",
      "Processed image: Anthothoe albocinta_Deepwatercove_396.png\n",
      "Processed image: Anthothoe albocinta_Deepwatercove_397.png\n",
      "Processed image: Anthothoe albocinta_Deepwatercove_398.png\n",
      "Processed image: Anthothoe albocinta_Deepwatercove_401.png\n",
      "Processed image: Anthothoe albocinta_Deepwatercove_402.png\n",
      "Processed image: Anthothoe albocinta_Deepwatercove_403.png\n",
      "Processed image: Anthothoe albocinta_Deepwatercove_404.png\n",
      "Processed image: Anthothoe albocinta_Deepwatercove_405.png\n",
      "Processed image: Anthothoe albocinta_Deepwatercove_406.png\n",
      "Processed image: Anthothoe albocinta_Deepwatercove_409.png\n",
      "Processed image: Anthothoe albocinta_Deepwatercove_410.png\n",
      "Processed image: Anthothoe albocinta_Deepwatercove_412.png\n"
     ]
    }
   ],
   "source": [
    "filenames = os.listdir(f'./anthothoe_albocinta/input/')\n",
    "for filename in filenames:\n",
    "    img = cv2.imread(f'./anthothoe_albocinta/input/{filename}', cv2.IMREAD_UNCHANGED)\n",
    "    flipped = cv2.flip(img, 1)\n",
    "    \n",
    "    cv2.imwrite(f'./anthothoe_albocinta/input/flipped_{filename}', flipped)\n",
    "    \n",
    "    img = cv2.imread(f'./anthothoe_albocinta/output/{filename}', cv2.IMREAD_GRAYSCALE)\n",
    "    flipped = cv2.flip(img, 1)\n",
    "    \n",
    "    cv2.imwrite(f'./anthothoe_albocinta/output/flipped_{filename}', flipped)\n",
    "    print(f\"Processed image: {filename}\")"
   ]
  },
  {
   "cell_type": "code",
   "execution_count": 6,
   "metadata": {},
   "outputs": [],
   "source": [
    "def combine_grayscale_images(img1, img2):\n",
    "    # Convert images to NumPy arrays\n",
    "    arr1 = np.array(img1)\n",
    "    arr2 = np.array(img2)\n",
    "    \n",
    "    # Create a mask where pixels in arr2 are not black (non-zero)\n",
    "    mask = arr2 != 0\n",
    "    \n",
    "    # Overwrite pixels in arr1 with pixels from arr2 where mask is True\n",
    "    arr1[mask] = arr2[mask]\n",
    "    \n",
    "    # Convert the result back to an image and save it\n",
    "    result_img = Image.fromarray(arr1, mode=\"L\")\n",
    "    result_img = np.array(result_img)\n",
    "    return result_img\n",
    "\n",
    "\n",
    "filenames = os.listdir('./predictions/rock/')\n",
    "for filename in filenames:\n",
    "    rock_mask = cv2.imread(f'./predictions/rock/{filename}', cv2.IMREAD_GRAYSCALE)\n",
    "    anthothoe_albocinta_mask = cv2.imread(f'./predictions/anthothoe_albocinta/{filename}', cv2.IMREAD_GRAYSCALE)\n",
    "    \n",
    "    anthothoe_albocinta_mask[anthothoe_albocinta_mask == 255] = 127\n",
    "    merged_mask = combine_grayscale_images(rock_mask, anthothoe_albocinta_mask)\n",
    "    \n",
    "    merged_mask[merged_mask == 127] = 0\n",
    "    \n",
    "    cv2.imwrite(f'./predictions/rock_modified/{filename}', merged_mask)"
   ]
  },
  {
   "cell_type": "code",
   "execution_count": 14,
   "metadata": {},
   "outputs": [
    {
     "name": "stdout",
     "output_type": "stream",
     "text": [
      "[  0 255]\n"
     ]
    }
   ],
   "source": [
    "rock_mask = cv2.imread(f'./ground_truth/rock/Deepwatercove_128.png', cv2.IMREAD_GRAYSCALE)\n",
    "print(np.unique(rock_mask))"
   ]
  }
 ],
 "metadata": {
  "kernelspec": {
   "display_name": "Python 3",
   "language": "python",
   "name": "python3"
  },
  "language_info": {
   "codemirror_mode": {
    "name": "ipython",
    "version": 3
   },
   "file_extension": ".py",
   "mimetype": "text/x-python",
   "name": "python",
   "nbconvert_exporter": "python",
   "pygments_lexer": "ipython3",
   "version": "3.11.4"
  }
 },
 "nbformat": 4,
 "nbformat_minor": 2
}
